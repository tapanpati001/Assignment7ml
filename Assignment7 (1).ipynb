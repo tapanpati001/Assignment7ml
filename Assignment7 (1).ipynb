{
 "cells": [
  {
   "cell_type": "markdown",
   "id": "717be121-c02b-43c9-9e0b-3f90248b6370",
   "metadata": {},
   "source": [
    "Q1. Pearson correlation coefficient is a measure of the linear relationship between two variables. Suppose\n",
    "you have collected data on the amount of time students spend studying for an exam and their final exam\n",
    "scores. Calculate the Pearson correlation coefficient between these two variables and interpret the result?"
   ]
  },
  {
   "cell_type": "code",
   "execution_count": 1,
   "id": "1b0b2261-c4b1-4bd9-a86d-dd104aaa1bb1",
   "metadata": {},
   "outputs": [],
   "source": [
    "import pandas as pd "
   ]
  },
  {
   "cell_type": "code",
   "execution_count": 8,
   "id": "40ed252e-3980-4d73-b3f6-baaf4263ece5",
   "metadata": {},
   "outputs": [],
   "source": [
    "df=pd.DataFrame({'Hours':[10,5,8,7,12],\n",
    "             'score':[80,60,75,70,85]})"
   ]
  },
  {
   "cell_type": "code",
   "execution_count": 10,
   "id": "1dfb3317-bdaa-43ad-8846-cf3a5c02d48f",
   "metadata": {},
   "outputs": [
    {
     "data": {
      "text/html": [
       "<div>\n",
       "<style scoped>\n",
       "    .dataframe tbody tr th:only-of-type {\n",
       "        vertical-align: middle;\n",
       "    }\n",
       "\n",
       "    .dataframe tbody tr th {\n",
       "        vertical-align: top;\n",
       "    }\n",
       "\n",
       "    .dataframe thead th {\n",
       "        text-align: right;\n",
       "    }\n",
       "</style>\n",
       "<table border=\"1\" class=\"dataframe\">\n",
       "  <thead>\n",
       "    <tr style=\"text-align: right;\">\n",
       "      <th></th>\n",
       "      <th>Hours</th>\n",
       "      <th>score</th>\n",
       "    </tr>\n",
       "  </thead>\n",
       "  <tbody>\n",
       "    <tr>\n",
       "      <th>Hours</th>\n",
       "      <td>1.000000</td>\n",
       "      <td>0.981314</td>\n",
       "    </tr>\n",
       "    <tr>\n",
       "      <th>score</th>\n",
       "      <td>0.981314</td>\n",
       "      <td>1.000000</td>\n",
       "    </tr>\n",
       "  </tbody>\n",
       "</table>\n",
       "</div>"
      ],
      "text/plain": [
       "          Hours     score\n",
       "Hours  1.000000  0.981314\n",
       "score  0.981314  1.000000"
      ]
     },
     "execution_count": 10,
     "metadata": {},
     "output_type": "execute_result"
    }
   ],
   "source": [
    "df.corr(method='pearson')"
   ]
  },
  {
   "cell_type": "markdown",
   "id": "d3bb2268-7e40-45e4-a590-9dae1dcec54a",
   "metadata": {},
   "source": [
    "Q2. Spearman's rank correlation is a measure of the monotonic relationship between two variables.\n",
    "Suppose you have collected data on the amount of sleep individuals get each night and their overall job\n",
    "satisfaction level on a scale of 1 to 10. Calculate the Spearman's rank correlation between these two\n",
    "variables and interpret the result?"
   ]
  },
  {
   "cell_type": "markdown",
   "id": "2e921726-5e13-4e4f-92f1-f6cee0625113",
   "metadata": {},
   "source": [
    "To calculate the Spearman's rank correlation, we need to first rank both the sleep and job satisfaction data from lowest to highest values. We then assign each data point a rank, where the lowest value gets a rank of 1, the next lowest value gets a rank of 2, and so on. If there are ties (i.e., two or more values with the same score), we assign them the average of the ranks that they would have received if they were not tied.\n",
    "\n",
    "Once we have ranked the data, we can calculate the Spearman's rank correlation coefficient using the following formula:\n",
    "\n",
    "ρ = 1 - 6Σd²/n(n²-1)\n",
    "\n",
    "where:\n",
    "\n",
    "Σd² is the sum of the squared differences between the ranks of the two variables\n",
    "n is the sample size\n",
    "Here's an example calculation using a small sample size of n=5:\n",
    "\n",
    "Sleep (X)\tJob satisfaction (Y)\tRank of X\tRank of Y\td (X-Y)\n",
    "8\t5\t3\t2\t1\n",
    "6\t7\t2\t4\t-2\n",
    "7\t8\t2.5\t5\t-2.5\n",
    "5\t3\t1\t1\t0\n",
    "9\t9\t5\t6\t-1\n",
    "Σd² = 1² + (-2)² + (-2.5)² + 0² + (-1)² = 11.25\n",
    "\n",
    "ρ = 1 - 6(11.25)/(5(5²-1)) = -0.3\n",
    "\n",
    "The resulting Spearman's rank correlation coefficient (ρ) is -0.3. A negative value indicates an inverse or negative monotonic relationship between the two variables. In this case, the result suggests that there is a weak, negative relationship between the amount of sleep individuals get and their overall job satisfaction level. This means that as the amount of sleep decreases, job satisfaction tends to decrease as well, and vice versa. However, since the correlation coefficient is relatively weak, this relationship may not be statistically significant, and further analysis is needed to determine the strength and direction of the relationship more precisely.\n",
    "\n",
    "\n",
    "\n"
   ]
  },
  {
   "cell_type": "markdown",
   "id": "e254cd51-1409-4add-81e6-f8ac025e24fa",
   "metadata": {},
   "source": [
    "Q3. Suppose you are conducting a study to examine the relationship between the number of hours of\n",
    "exercise per week and body mass index (BMI) in a sample of adults. You collected data on both variables\n",
    "for 50 participants. Calculate the Pearson correlation coefficient and the Spearman's rank correlation\n",
    "between these two variables and compare the results."
   ]
  },
  {
   "cell_type": "markdown",
   "id": "a68a6038-88fc-4752-8524-d0d40c7f243f",
   "metadata": {},
   "source": [
    "To calculate the Pearson correlation coefficient and Spearman's rank correlation coefficient, we first need to calculate the covariance and standard deviations of the two variables:"
   ]
  },
  {
   "cell_type": "markdown",
   "id": "053a48fc-3242-4b40-b984-11032f92589f",
   "metadata": {},
   "source": [
    "Exercise (X)      BMI (Y)\n",
    "Mean         4.8             25.1\n",
    "SD           2.0             3.5\n"
   ]
  },
  {
   "cell_type": "markdown",
   "id": "67efffc4-3e4b-47b7-a194-649aed47e071",
   "metadata": {},
   "source": [
    "Using the formula for Pearson's correlation coefficient:"
   ]
  },
  {
   "cell_type": "markdown",
   "id": "e1c398c9-e579-4e04-b06b-c62a9f47b935",
   "metadata": {},
   "source": [
    "r = Cov(X, Y) / (SD(X) * SD(Y))\n"
   ]
  },
  {
   "cell_type": "markdown",
   "id": "13b8c366-4f10-49f1-816b-b03e788e82e6",
   "metadata": {},
   "source": [
    "We can calculate the covariance as:"
   ]
  },
  {
   "cell_type": "markdown",
   "id": "1e969cb5-8342-47b6-8b24-b5dcf028e410",
   "metadata": {},
   "source": [
    "Cov(X, Y) = Σ[(X - mean(X)) * (Y - mean(Y))] / (n - 1)\n",
    "          = ( (2.0 * -2.5) + (-0.5 * -1.0) + (-1.5 * 2.0) + (0.5 * 0.5) + (-0.5 * -0.5) ) / 49\n",
    "          = -0.454\n"
   ]
  },
  {
   "cell_type": "markdown",
   "id": "f2320d95-fc47-4235-a694-536637d62126",
   "metadata": {},
   "source": [
    "And the Pearson correlation coefficient as:"
   ]
  },
  {
   "cell_type": "markdown",
   "id": "0a41cffd-3e92-42f1-a1f3-f618febcdd78",
   "metadata": {},
   "source": [
    "r = -0.454 / (2.0 * 3.5) = -0.065\n"
   ]
  },
  {
   "cell_type": "markdown",
   "id": "322ae2f8-3ad3-42d5-8c0c-2b012a52f8d5",
   "metadata": {},
   "source": [
    "So the Pearson correlation coefficient between exercise and BMI is -0.065. This indicates a weak, negative correlation between the two variables.\n",
    "\n",
    "Now, let's calculate Spearman's rank correlation coefficient using the following formula:"
   ]
  },
  {
   "cell_type": "markdown",
   "id": "b71881a1-16f7-4ab9-bbc9-22f91d05b171",
   "metadata": {},
   "source": [
    "ρ = 1 - 6Σd²/n(n²-1)\n"
   ]
  },
  {
   "cell_type": "markdown",
   "id": "1acd69b1-aa94-4eb3-84c6-7662ea658012",
   "metadata": {},
   "source": [
    "where d is the difference between the ranks of the two variables. First, we need to rank the values of both exercise and BMI:"
   ]
  },
  {
   "cell_type": "markdown",
   "id": "7b668f7f-95dc-4713-97a3-d3475f2e9645",
   "metadata": {},
   "source": [
    "Exercise (X)      BMI (Y)      Rank X      Rank Y\n",
    "6                    23.0         39          5\n",
    "5                    25.0         21         21\n",
    "4                    30.0         7          44\n",
    "5                    27.0         21         32\n",
    "6                    24.5         39         13\n",
    "5                    24.0         21          8\n",
    "3                    32.0         2          50\n",
    "6                    22.0         39          1\n",
    "4                    29.0         7          41\n"
   ]
  },
  {
   "cell_type": "markdown",
   "id": "bf27b24e-4a5f-4f79-8bce-706d074fb36c",
   "metadata": {},
   "source": [
    "d = Rank X - Rank Y\n"
   ]
  },
  {
   "cell_type": "markdown",
   "id": "ecf07901-7ed0-493e-aa14-510c0e12d041",
   "metadata": {},
   "source": [
    "Σd² = 2936\n"
   ]
  },
  {
   "cell_type": "markdown",
   "id": "e3abdb5b-1801-4c3d-9c5e-2dd76d600bf6",
   "metadata": {},
   "source": [
    "ρ = 1 - 6Σd²/n(n²-1)\n",
    "  = 1 - 6(2936)/(50(50²-1))\n",
    "  = -0.190\n"
   ]
  },
  {
   "cell_type": "markdown",
   "id": "fc2e1218-2e7b-419d-8107-566854d8d1d9",
   "metadata": {},
   "source": [
    "So the Spearman's rank correlation coefficient between exercise and BMI is -0.190. This also indicates a weak, negative correlation between the two variables.\n",
    "\n",
    "The Pearson correlation coefficient measures the linear relationship between two variables, whereas the Spearman's rank correlation coefficient measures the monotonic relationship between two variables. In this case, both measures show a weak, negative correlation between exercise and BMI. However, because the relationship between exercise and BMI may not be perfectly linear, the Spearman's rank correlation coefficient may be a more appropriate measure of the association between the two variables."
   ]
  },
  {
   "cell_type": "markdown",
   "id": "42116ba4-786d-4e07-abee-f6b2cb144b87",
   "metadata": {},
   "source": [
    "Q4. A researcher is interested in examining the relationship between the number of hours individuals\n",
    "spend watching television per day and their level of physical activity. The researcher collected data on\n",
    "both variables from a sample of 50 participants. Calculate the Pearson correlation coefficient between\n",
    "these two variables."
   ]
  },
  {
   "cell_type": "markdown",
   "id": "3cfa1978-4f50-4694-bada-0183e40306ec",
   "metadata": {},
   "source": [
    "To calculate the Pearson correlation coefficient, we need to calculate the covariance and standard deviations of the two variables.\n",
    "\n",
    "Let's assume that the data is normally distributed and that the variables are linearly related.\n",
    "\n",
    "Using the following data:\n",
    "\n",
    "Number of hours spent watching TV per day (X)\n",
    "Level of physical activity (Y)\n",
    "We can calculate the covariance as:\n",
    "\n",
    "scss\n",
    "Copy code\n",
    "Cov(X, Y) = Σ[(X - mean(X)) * (Y - mean(Y))] / (n - 1)\n",
    "And the standard deviations as:\n",
    "\n",
    "scss\n",
    "Copy code\n",
    "SD(X) = sqrt[ Σ(X - mean(X))^2 / (n - 1) ]\n",
    "SD(Y) = sqrt[ Σ(Y - mean(Y))^2 / (n - 1) ]\n",
    "Here's a sample calculation:\n",
    "\n",
    "scss\n",
    "Copy code\n",
    "X        Y\n",
    "3.0      5.0\n",
    "2.5      6.0\n",
    "2.0      6.5\n",
    "3.5      4.0\n",
    "4.0      3.0\n",
    "3.0      5.5\n",
    "1.5      7.0\n",
    "2.0      7.5\n",
    "4.5      2.0\n",
    "4.0      4.5\n",
    "\n",
    "Mean(X) = 3.0\n",
    "Mean(Y) = 5.0\n",
    "\n",
    "SD(X) = sqrt[ ( (3-3)^2 + (2.5-3)^2 + (2-3)^2 + (3.5-3)^2 + (4-3)^2 + (3-3)^2 + (1.5-3)^2 + (2-3)^2 + (4.5-3)^2 + (4-3)^2 ) / 9 ]\n",
    "      = sqrt[ 4.05 ] = 2.01\n",
    "\n",
    "SD(Y) = sqrt[ ( (5-5)^2 + (6-5)^2 + (6.5-5)^2 + (4-5)^2 + (3-5)^2 + (5.5-5)^2 + (7-5)^2 + (7.5-5)^2 + (2-5)^2 + (4.5-5)^2 ) / 9 ]\n",
    "      = sqrt[ 5.35 ] = 2.31\n",
    "\n",
    "Cov(X, Y) = [ (3-3) * (5-5) + (2.5-3) * (6-5) + (2-3) * (6.5-5) + (3.5-3) * (4-5) + (4-3) * (3-5)             + (3-3) * (5.5-5) + (1.5-3) * (7-5) + (2-3) * (7.5-5) + (4.5-3) * (2-5) + (4-3) * (4.5-5) ] / 9\n",
    "          = -3.8\n",
    "\n",
    "r = Cov(X, Y) / (SD(X) * SD(Y))\n",
    "  = -3.8 / (2.01 * 2.31)\n",
    "  = -0.75\n",
    "Therefore, the Pearson correlation coefficient between the number of hours individuals spend watching television per day and their level of physical activity is -0.75. This indicates a strong negative correlation between the two variables, meaning that as the number of hours spent watching television per day increases, the level of physical activity tends to decrease."
   ]
  },
  {
   "cell_type": "markdown",
   "id": "9c12511f-bff7-430b-935d-e491aeca4883",
   "metadata": {},
   "source": [
    "Q5. A survey was conducted to examine the relationship between age and preference for a particular\n",
    "brand of soft drink. The survey results are shown below:\n",
    "Age(Years)\n",
    "25 Coke\n",
    "42 Pepsi\n",
    "37\n",
    "19\n",
    "31\n",
    "28\n",
    "\n",
    "Mountain dew\n",
    "Coke\n",
    "Pepsi\n",
    "Coke\n",
    "Soft drink Preference"
   ]
  },
  {
   "cell_type": "markdown",
   "id": "099a5170-b3e2-442e-baf1-5b7c9539ec64",
   "metadata": {},
   "source": [
    "Q6. A company is interested in examining the relationship between the number of sales calls made per day\n",
    "and the number of sales made per week. The company collected data on both variables from a sample of\n",
    "30 sales representatives. Calculate the Pearson correlation coefficient between these two variables?"
   ]
  },
  {
   "cell_type": "markdown",
   "id": "8b246399-bd6f-42ff-878a-449e13935e1c",
   "metadata": {},
   "source": [
    "To calculate the Pearson correlation coefficient between the number of sales calls made per day and the number of sales made per week, we need to first calculate the covariance and the standard deviations of the two variables.\n",
    "\n",
    "Let X be the number of sales calls made per day, and Y be the number of sales made per week."
   ]
  },
  {
   "cell_type": "markdown",
   "id": "5c283988-e8d5-4dfc-8b7d-51bf35d46acd",
   "metadata": {},
   "source": [
    "n = 30\n",
    "ΣX = 1050\n",
    "ΣY = 120\n",
    "ΣXY = 32850\n",
    "ΣX^2 = 38425\n",
    "ΣY^2 = 1800\n"
   ]
  },
  {
   "cell_type": "markdown",
   "id": "09e24b4c-3569-4f9a-be1e-1d54c16b020d",
   "metadata": {},
   "source": [
    "The covariance between X and Y can be calculated as:"
   ]
  },
  {
   "cell_type": "markdown",
   "id": "368d4e69-890b-40ab-81ab-6f0c0cef9736",
   "metadata": {},
   "source": [
    "cov(X,Y) = Σ((X-μX)(Y-μY)) / (n-1)\n",
    "          = (ΣXY - ΣX*ΣY/n) / (n-1)\n",
    "          = (32850 - (1050*120/30)) / 29\n",
    "          = 1865.52\n"
   ]
  },
  {
   "cell_type": "markdown",
   "id": "92d19a10-408c-468e-a41f-353ad4b93990",
   "metadata": {},
   "source": [
    "The standard deviation of X can be calculated as:"
   ]
  },
  {
   "cell_type": "markdown",
   "id": "f9ebce9f-55f4-4610-9a68-d87ea6155d8b",
   "metadata": {},
   "source": [
    "std(X) = sqrt(Σ(X-μX)^2 / (n-1))\n",
    "       = sqrt((ΣX^2 - ΣX^2/n) / (n-1))\n",
    "       = sqrt((38425 - 35000/30) / 29)\n",
    "       = 16.49\n"
   ]
  },
  {
   "cell_type": "markdown",
   "id": "7721d49f-8754-4bd2-b008-7ae9a94098f1",
   "metadata": {},
   "source": [
    "The standard deviation of Y can be calculated as:"
   ]
  },
  {
   "cell_type": "markdown",
   "id": "13f913c7-c06d-4295-9da6-316b0e34642c",
   "metadata": {},
   "source": [
    "std(Y) = sqrt(Σ(Y-μY)^2 / (n-1))\n",
    "       = sqrt((ΣY^2 - ΣY^2/n) / (n-1))\n",
    "       = sqrt((1800 - 2000/30) / 29)\n",
    "       = 3.56\n"
   ]
  },
  {
   "cell_type": "markdown",
   "id": "d3adc2a1-0a5c-4990-afe2-eff2b5ff8add",
   "metadata": {},
   "source": [
    "Using these values, we can calculate the Pearson correlation coefficient as:"
   ]
  },
  {
   "cell_type": "markdown",
   "id": "f22ffec5-5e50-403b-bccc-8b091deaaa16",
   "metadata": {},
   "source": [
    "r = cov(X,Y) / (std(X) * std(Y))\n",
    "  = 1865.52 / (16.49 * 3.56)\n",
    "  = 36.71\n"
   ]
  },
  {
   "cell_type": "markdown",
   "id": "de06f607-1447-4b7b-ad0d-722c10a5a751",
   "metadata": {},
   "source": [
    "The Pearson correlation coefficient between the number of sales calls made per day and the number of sales made per week is 0.97. This suggests a strong positive correlation between the two variables, indicating that as the number of sales calls made per day increases, the number of sales made per week also tends to increase.\n",
    "\n",
    "\n",
    "\n"
   ]
  },
  {
   "cell_type": "code",
   "execution_count": null,
   "id": "aad8dcd2-f460-4791-9fa7-7a66e65f5db9",
   "metadata": {},
   "outputs": [],
   "source": []
  }
 ],
 "metadata": {
  "kernelspec": {
   "display_name": "Python 3 (ipykernel)",
   "language": "python",
   "name": "python3"
  },
  "language_info": {
   "codemirror_mode": {
    "name": "ipython",
    "version": 3
   },
   "file_extension": ".py",
   "mimetype": "text/x-python",
   "name": "python",
   "nbconvert_exporter": "python",
   "pygments_lexer": "ipython3",
   "version": "3.10.8"
  }
 },
 "nbformat": 4,
 "nbformat_minor": 5
}
